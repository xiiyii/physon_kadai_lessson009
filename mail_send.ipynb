{
  "nbformat": 4,
  "nbformat_minor": 0,
  "metadata": {
    "colab": {
      "provenance": []
    },
    "kernelspec": {
      "name": "python3",
      "display_name": "Python 3"
    },
    "language_info": {
      "name": "python"
    }
  },
  "cells": [
    {
      "cell_type": "code",
      "source": [],
      "metadata": {
        "id": "GW6MOEHYHDKm"
      },
      "execution_count": null,
      "outputs": []
    },
    {
      "cell_type": "code",
      "source": [
        "import smtplib\n",
        "from email.mime.text import MIMEText\n",
        "from email.mime.multipart import MIMEMultipart\n",
        "from smtplib import SMTP\n",
        "\n",
        "\n",
        "# Mailtrapの設定情報\n",
        "SMTP_SERVER = \"sandbox.smtp.mailtrap.io\"  # Mailtrapのホスト名\n",
        "SMTP_PORT = 2525 # ポート番号\n",
        "USERNAME = \"6792944a8225c6\"\n",
        "PASSWORD = \"****9a7a\"\n",
        "\n",
        "# 送信者と受信者情報\n",
        "SENDER_EMAIL = \"sender@example.com\"\n",
        "RECEIVER_EMAIL = \"opelacmilan@gmail.com\"\n",
        "\n",
        "# メールの内容を作成\n",
        "msg = MIMEMultipart()\n",
        "msg[\"From\"] = SENDER_EMAIL\n",
        "msg[\"To\"] = RECEIVER_EMAIL\n",
        "msg[\"Subject\"] = \"Mailtrapでのテストメール\"\n",
        "\n",
        "body = \"このメールはMailtrapを使用したPythonの自動送信テストです。\"\n",
        "msg.attach(MIMEText(body, \"plain\"))\n",
        "\n",
        "# SMTPサーバーに接続してメール送信\n",
        "try:\n",
        "    server = smtplib.SMTP(SMTP_SERVER, SMTP_PORT)\n",
        "    server.starttls()  # TLSを有効にする\n",
        "    server.login(USERNAME, PASSWORD)\n",
        "    server.sendmail(SENDER_EMAIL, RECEIVER_EMAIL, msg.as_string())\n",
        "    print(\"メール送信成功！\")\n",
        "    server.quit()\n",
        "except Exception as e:\n",
        "    print(f\"メール送信エラー: {e}\")"
      ],
      "metadata": {
        "colab": {
          "base_uri": "https://localhost:8080/"
        },
        "id": "0tzEWWXDFhb5",
        "outputId": "6f9ab133-7292-4c0c-97aa-6f61fceb817d"
      },
      "execution_count": 13,
      "outputs": [
        {
          "output_type": "stream",
          "name": "stdout",
          "text": [
            "メール送信エラー: [SSL: WRONG_VERSION_NUMBER] wrong version number (_ssl.c:1016)\n"
          ]
        }
      ]
    }
  ]
}